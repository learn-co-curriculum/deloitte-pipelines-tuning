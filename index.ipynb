{
  "cells": [
    {
      "cell_type": "markdown",
      "metadata": {
        "id": "D3bcfDgYAdoW"
      },
      "source": [
        "# Overview of Pipelines with Model Tuning\n",
        "\n",
        "## Introduction\n",
        "\n",
        "Now that you have learned about both supervised and unspervised learning workflows, it's time to get into some more-advanced techniques. In this section you'll learn about tools for tuning model hyperparameters and building pipelines.\n",
        "\n",
        "## Tuning Model Hyperparameters with GridSearchCV\n",
        "\n",
        "With non-parametric models such as decision trees, you have seen that there are various hyperparameters that you can specify when you instantiate the model. For example, the maximum depth of the tree. Often these hyperparameters help to balance the bias-variance trade-off between underfitting and overfitting and are important for finding the optimal model.\n",
        "\n",
        "With so many different hyperparameter combinations to try out, it can be difficult to write clean, readable code. Fortunately there is a tool from scikit-learn called `GridSearchCV` that is specifically designed to search through a \"grid\" of hyperparameters! In this section we'll introduce how to use this tool.\n",
        "\n",
        "\n",
        "## Machine Learning Pipelines\n",
        "\n",
        "Pipelines are extremely useful for allowing data scientists to quickly and consistently transform data, train machine learning models, and make predictions.\n",
        "\n",
        "By now, you know that the data science process is a flow of activities, from inspecting the data to cleaning it, transforming it, running a model, and discussing the results. Wouldn't it be nice if there was a streamlined process to create nice machine learning workflows? Enter the `Pipeline` class in scikit-learn!\n",
        "\n",
        "In this section, you'll learn how you can use a pipeline to integrate several steps of the machine learning workflow by learning an extension of decision trees called random forests. Additionally, you'll compare several classification techniques with each other, and integrate grid search in your pipeline so you can tune several hyperparameters in each of the machine learning models while also avoiding data leakage.\n",
        "\n",
        "\n",
        "## Summary\n",
        "\n",
        "This section only scratches the surface of the advanced modeling tools you might use as a data scientist. Get ready to optimize your workflow and get beyond the basics!"
      ]
    }
  ],
  "metadata": {
    "kernelspec": {
      "display_name": "Python (learn-env)",
      "language": "python",
      "name": "learn-env"
    },
    "language_info": {
      "codemirror_mode": {
        "name": "ipython",
        "version": 3
      },
      "file_extension": ".py",
      "mimetype": "text/x-python",
      "name": "python",
      "nbconvert_exporter": "python",
      "pygments_lexer": "ipython3",
      "version": "3.8.5"
    },
    "colab": {
      "provenance": [],
      "collapsed_sections": []
    }
  },
  "nbformat": 4,
  "nbformat_minor": 0
}